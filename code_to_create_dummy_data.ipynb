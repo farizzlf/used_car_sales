{
  "nbformat": 4,
  "nbformat_minor": 0,
  "metadata": {
    "colab": {
      "provenance": [],
      "authorship_tag": "ABX9TyNi6nFjFNT2y1vqFZSPhAnb"
    },
    "kernelspec": {
      "name": "python3",
      "display_name": "Python 3"
    },
    "language_info": {
      "name": "python"
    }
  },
  "cells": [
    {
      "cell_type": "code",
      "execution_count": 12,
      "metadata": {
        "colab": {
          "base_uri": "https://localhost:8080/"
        },
        "id": "tWsVFCzpHxQY",
        "outputId": "f98b49f6-a9c0-402d-d6d0-993b4a87372f"
      },
      "outputs": [
        {
          "output_type": "stream",
          "name": "stdout",
          "text": [
            "Collecting faker\n",
            "  Downloading Faker-25.1.0-py3-none-any.whl (1.8 MB)\n",
            "\u001b[?25l     \u001b[90m━━━━━━━━━━━━━━━━━━━━━━━━━━━━━━━━━━━━━━━━\u001b[0m \u001b[32m0.0/1.8 MB\u001b[0m \u001b[31m?\u001b[0m eta \u001b[36m-:--:--\u001b[0m\r\u001b[2K     \u001b[91m━━━━━━━\u001b[0m\u001b[91m╸\u001b[0m\u001b[90m━━━━━━━━━━━━━━━━━━━━━━━━━━━━━━━━\u001b[0m \u001b[32m0.4/1.8 MB\u001b[0m \u001b[31m10.6 MB/s\u001b[0m eta \u001b[36m0:00:01\u001b[0m\r\u001b[2K     \u001b[91m━━━━━━━━━━━━━━━━━━━━━━━━━━\u001b[0m\u001b[90m╺\u001b[0m\u001b[90m━━━━━━━━━━━━━\u001b[0m \u001b[32m1.2/1.8 MB\u001b[0m \u001b[31m16.7 MB/s\u001b[0m eta \u001b[36m0:00:01\u001b[0m\r\u001b[2K     \u001b[91m━━━━━━━━━━━━━━━━━━━━━━━━━━━━━━━━━━━━━━━\u001b[0m\u001b[91m╸\u001b[0m \u001b[32m1.8/1.8 MB\u001b[0m \u001b[31m19.1 MB/s\u001b[0m eta \u001b[36m0:00:01\u001b[0m\r\u001b[2K     \u001b[90m━━━━━━━━━━━━━━━━━━━━━━━━━━━━━━━━━━━━━━━━\u001b[0m \u001b[32m1.8/1.8 MB\u001b[0m \u001b[31m16.1 MB/s\u001b[0m eta \u001b[36m0:00:00\u001b[0m\n",
            "\u001b[?25hRequirement already satisfied: python-dateutil>=2.4 in /usr/local/lib/python3.10/dist-packages (from faker) (2.8.2)\n",
            "Requirement already satisfied: six>=1.5 in /usr/local/lib/python3.10/dist-packages (from python-dateutil>=2.4->faker) (1.16.0)\n",
            "Installing collected packages: faker\n",
            "Successfully installed faker-25.1.0\n"
          ]
        }
      ],
      "source": [
        "!pip install faker"
      ]
    },
    {
      "cell_type": "code",
      "source": [
        "import pandas as pd\n",
        "from faker import Faker\n",
        "import random\n",
        "\n",
        "# Inisialisasi Faker\n",
        "fake = Faker()\n",
        "\n",
        "# Data asli\n",
        "data = {\n",
        "    'mobil_id': list(range(1, 51)),\n",
        "    'merek': random.choices(['Toyota', 'Daihatsu', 'Honda', 'Suzuki'], k=50),\n",
        "    'model': random.choices(['Toyota Yaris', 'Toyota Agya', 'Toyota Calya',\n",
        "                             'Daihatsu Ayla', 'Daihatsu Terios', 'Daihatsu Xenia',\n",
        "                             'Honda Jazz', 'Honda CR-V', 'Honda Civic', 'Suzuki Ertiga'], k=50),\n",
        "    'jenis_body': random.choices(['Hatchback', 'Wagon', 'SUV', 'MPV', 'Sedan'], k=50),\n",
        "    'tipe_transmisi': [fake.random_element(elements=('Manual', 'Automatic')) for _ in range(50)],\n",
        "    'tahun_pembuatan': random.choices(range(2010, 2023), k=50),\n",
        "    'warna': [fake.color_name() for _ in range(50)],\n",
        "    'harga_jual': [price + random.randint(-20000000, 20000000) for price in data['price']],\n",
        "    'tanggal_post': [fake.date_between(start_date='-1y', end_date='today') for _ in range(50)]\n",
        "}\n",
        "\n",
        "# Buat DataFrame dari data\n",
        "df = pd.DataFrame(data)\n",
        "\n",
        "# Menambahkan kolom user_penjual_id setelah kolom mobil_id\n",
        "df.insert(df.columns.get_loc('mobil_id') + 1, 'user_penjual_id', 0)\n",
        "\n",
        "# Mengisi data dummy user_penjual_id (range 1-50) menggunakan Faker\n",
        "df['user_penjual_id'] = [fake.random_int(min=1, max=50) for _ in range(len(df))]\n",
        "\n",
        "# Menyimpan DataFrame Mobil ke dalam file CSV\n",
        "df.to_csv('mobil.csv', index=False)\n",
        "\n",
        "# Mengunduh file CSV\n",
        "from google.colab import files\n",
        "files.download('mobil.csv')\n"
      ],
      "metadata": {
        "colab": {
          "base_uri": "https://localhost:8080/",
          "height": 17
        },
        "id": "4kp1s2-ELzqo",
        "outputId": "b302970c-caf9-41e3-b98e-16a01d0d12f7"
      },
      "execution_count": 32,
      "outputs": [
        {
          "output_type": "display_data",
          "data": {
            "text/plain": [
              "<IPython.core.display.Javascript object>"
            ],
            "application/javascript": [
              "\n",
              "    async function download(id, filename, size) {\n",
              "      if (!google.colab.kernel.accessAllowed) {\n",
              "        return;\n",
              "      }\n",
              "      const div = document.createElement('div');\n",
              "      const label = document.createElement('label');\n",
              "      label.textContent = `Downloading \"${filename}\": `;\n",
              "      div.appendChild(label);\n",
              "      const progress = document.createElement('progress');\n",
              "      progress.max = size;\n",
              "      div.appendChild(progress);\n",
              "      document.body.appendChild(div);\n",
              "\n",
              "      const buffers = [];\n",
              "      let downloaded = 0;\n",
              "\n",
              "      const channel = await google.colab.kernel.comms.open(id);\n",
              "      // Send a message to notify the kernel that we're ready.\n",
              "      channel.send({})\n",
              "\n",
              "      for await (const message of channel.messages) {\n",
              "        // Send a message to notify the kernel that we're ready.\n",
              "        channel.send({})\n",
              "        if (message.buffers) {\n",
              "          for (const buffer of message.buffers) {\n",
              "            buffers.push(buffer);\n",
              "            downloaded += buffer.byteLength;\n",
              "            progress.value = downloaded;\n",
              "          }\n",
              "        }\n",
              "      }\n",
              "      const blob = new Blob(buffers, {type: 'application/binary'});\n",
              "      const a = document.createElement('a');\n",
              "      a.href = window.URL.createObjectURL(blob);\n",
              "      a.download = filename;\n",
              "      div.appendChild(a);\n",
              "      a.click();\n",
              "      div.remove();\n",
              "    }\n",
              "  "
            ]
          },
          "metadata": {}
        },
        {
          "output_type": "display_data",
          "data": {
            "text/plain": [
              "<IPython.core.display.Javascript object>"
            ],
            "application/javascript": [
              "download(\"download_d6521266-9760-4266-9ed9-a3588c6baed7\", \"mobil.csv\", 3952)"
            ]
          },
          "metadata": {}
        }
      ]
    },
    {
      "cell_type": "code",
      "source": [
        "import pandas as pd\n",
        "from faker import Faker\n",
        "import random\n",
        "from datetime import datetime, timedelta\n",
        "\n",
        "# Inisialisasi objek Faker\n",
        "fake = Faker('id_ID')  # Menggunakan bahasa Indonesia untuk data dummy\n",
        "\n",
        "# Fungsi untuk membuat data dummy untuk tabel User_Penjual\n",
        "def create_dummy_user_penjual(num_entries=50):\n",
        "    data = []\n",
        "    for _ in range(num_entries):\n",
        "        nama = fake.name()\n",
        "        kontak = fake.phone_number()\n",
        "        lokasi = fake.city()\n",
        "        data.append((None, nama, kontak, lokasi))  # user_penjual_id sementara diisi None\n",
        "    return data\n",
        "\n",
        "# Fungsi untuk membuat data dummy untuk tabel User_Pembeli\n",
        "def create_dummy_user_pembeli(num_entries=50):\n",
        "    data = []\n",
        "    for _ in range(num_entries):\n",
        "        nama = fake.name()\n",
        "        kontak = fake.phone_number()\n",
        "        lokasi = fake.city()\n",
        "        data.append((None, nama, kontak, lokasi))  # user_pembeli_id sementara diisi None\n",
        "    return data\n",
        "\n",
        "# Fungsi untuk membuat data dummy untuk tabel Bid\n",
        "def create_dummy_bid(num_entries=50, mobil_ids=None, user_pembeli_ids=None):\n",
        "    if mobil_ids is None:\n",
        "        mobil_ids = list(range(1, num_entries + 1))\n",
        "    if user_pembeli_ids is None:\n",
        "        user_pembeli_ids = list(range(1, num_entries + 1))\n",
        "\n",
        "    data = []\n",
        "    for i in range(num_entries):\n",
        "        mobil_id = random.choice(mobil_ids)\n",
        "        user_pembeli_id = random.choice(user_pembeli_ids)\n",
        "        harga_bid = random.randint(10000000, 500000000)  # Harga bid random antara 10 juta hingga 500 juta\n",
        "        tanggal_bid = fake.date_between(start_date='-1y', end_date='today')\n",
        "        status_bid = random.choice(['accepted', 'pending', 'rejected'])\n",
        "        data.append((None, mobil_id, user_pembeli_id, harga_bid, tanggal_bid, status_bid))  # bid_id sementara diisi None\n",
        "    return data\n",
        "\n",
        "# Generate dummy data for User_Penjual\n",
        "user_penjual_data = create_dummy_user_penjual()\n",
        "user_penjual_df = pd.DataFrame(user_penjual_data, columns=['user_penjual_id', 'nama', 'kontak', 'lokasi'])\n",
        "user_penjual_df['user_penjual_id'] = range(1, len(user_penjual_df) + 1)  # Assign sequential user_penjual_id\n",
        "\n",
        "# Generate dummy data for User_Pembeli\n",
        "user_pembeli_data = create_dummy_user_pembeli()\n",
        "user_pembeli_df = pd.DataFrame(user_pembeli_data, columns=['user_pembeli_id', 'nama', 'kontak', 'lokasi'])\n",
        "user_pembeli_df['user_pembeli_id'] = range(1, len(user_pembeli_df) + 1)  # Assign sequential user_pembeli_id\n",
        "\n",
        "# Generate dummy data for Bid\n",
        "mobil_ids = list(range(1, 51))  # Assume mobil_ids range from 1 to 50\n",
        "bid_data = create_dummy_bid(num_entries=50, mobil_ids=mobil_ids, user_pembeli_ids=list(user_pembeli_df['user_pembeli_id']))\n",
        "bid_df = pd.DataFrame(bid_data, columns=['bid_id', 'mobil_id', 'user_pembeli_id', 'harga_bid', 'tanggal_bid', 'status_bid'])\n",
        "bid_df['bid_id'] = range(1, len(bid_df) + 1)  # Assign sequential bid_id\n",
        "\n",
        "# Menyimpan DataFrame User_Penjual ke dalam file CSV\n",
        "user_penjual_df.to_csv('user_penjual.csv', index=False)\n",
        "\n",
        "# Mengunduh file CSV\n",
        "from google.colab import files\n",
        "files.download('user_penjual.csv')\n",
        "\n",
        "\n",
        "# Menyimpan DataFrame User_Pembeli ke dalam file CSV\n",
        "user_pembeli_df.to_csv('user_pembeli.csv', index=False)\n",
        "\n",
        "# Mengunduh file CSV\n",
        "files.download('user_pembeli.csv')\n",
        "\n",
        "\n",
        "# Menyimpan DataFrame Bid ke dalam file CSV\n",
        "bid_df.to_csv('bid.csv', index=False)\n",
        "\n",
        "# Mengunduh file CSV\n",
        "files.download('bid.csv')"
      ],
      "metadata": {
        "colab": {
          "base_uri": "https://localhost:8080/",
          "height": 72
        },
        "id": "H7JRX2GWRKwc",
        "outputId": "f6b10428-9f1d-4951-9462-04a88931b2b3"
      },
      "execution_count": 24,
      "outputs": [
        {
          "output_type": "stream",
          "name": "stdout",
          "text": [
            "Requirement already satisfied: faker in /usr/local/lib/python3.10/dist-packages (25.1.0)\n",
            "Requirement already satisfied: python-dateutil>=2.4 in /usr/local/lib/python3.10/dist-packages (from faker) (2.8.2)\n",
            "Requirement already satisfied: six>=1.5 in /usr/local/lib/python3.10/dist-packages (from python-dateutil>=2.4->faker) (1.16.0)\n"
          ]
        },
        {
          "output_type": "display_data",
          "data": {
            "text/plain": [
              "<IPython.core.display.Javascript object>"
            ],
            "application/javascript": [
              "\n",
              "    async function download(id, filename, size) {\n",
              "      if (!google.colab.kernel.accessAllowed) {\n",
              "        return;\n",
              "      }\n",
              "      const div = document.createElement('div');\n",
              "      const label = document.createElement('label');\n",
              "      label.textContent = `Downloading \"${filename}\": `;\n",
              "      div.appendChild(label);\n",
              "      const progress = document.createElement('progress');\n",
              "      progress.max = size;\n",
              "      div.appendChild(progress);\n",
              "      document.body.appendChild(div);\n",
              "\n",
              "      const buffers = [];\n",
              "      let downloaded = 0;\n",
              "\n",
              "      const channel = await google.colab.kernel.comms.open(id);\n",
              "      // Send a message to notify the kernel that we're ready.\n",
              "      channel.send({})\n",
              "\n",
              "      for await (const message of channel.messages) {\n",
              "        // Send a message to notify the kernel that we're ready.\n",
              "        channel.send({})\n",
              "        if (message.buffers) {\n",
              "          for (const buffer of message.buffers) {\n",
              "            buffers.push(buffer);\n",
              "            downloaded += buffer.byteLength;\n",
              "            progress.value = downloaded;\n",
              "          }\n",
              "        }\n",
              "      }\n",
              "      const blob = new Blob(buffers, {type: 'application/binary'});\n",
              "      const a = document.createElement('a');\n",
              "      a.href = window.URL.createObjectURL(blob);\n",
              "      a.download = filename;\n",
              "      div.appendChild(a);\n",
              "      a.click();\n",
              "      div.remove();\n",
              "    }\n",
              "  "
            ]
          },
          "metadata": {}
        },
        {
          "output_type": "display_data",
          "data": {
            "text/plain": [
              "<IPython.core.display.Javascript object>"
            ],
            "application/javascript": [
              "download(\"download_41d7dde8-2abf-4efd-9ebc-5193b0e91596\", \"user_penjual.csv\", 2519)"
            ]
          },
          "metadata": {}
        },
        {
          "output_type": "display_data",
          "data": {
            "text/plain": [
              "<IPython.core.display.Javascript object>"
            ],
            "application/javascript": [
              "\n",
              "    async function download(id, filename, size) {\n",
              "      if (!google.colab.kernel.accessAllowed) {\n",
              "        return;\n",
              "      }\n",
              "      const div = document.createElement('div');\n",
              "      const label = document.createElement('label');\n",
              "      label.textContent = `Downloading \"${filename}\": `;\n",
              "      div.appendChild(label);\n",
              "      const progress = document.createElement('progress');\n",
              "      progress.max = size;\n",
              "      div.appendChild(progress);\n",
              "      document.body.appendChild(div);\n",
              "\n",
              "      const buffers = [];\n",
              "      let downloaded = 0;\n",
              "\n",
              "      const channel = await google.colab.kernel.comms.open(id);\n",
              "      // Send a message to notify the kernel that we're ready.\n",
              "      channel.send({})\n",
              "\n",
              "      for await (const message of channel.messages) {\n",
              "        // Send a message to notify the kernel that we're ready.\n",
              "        channel.send({})\n",
              "        if (message.buffers) {\n",
              "          for (const buffer of message.buffers) {\n",
              "            buffers.push(buffer);\n",
              "            downloaded += buffer.byteLength;\n",
              "            progress.value = downloaded;\n",
              "          }\n",
              "        }\n",
              "      }\n",
              "      const blob = new Blob(buffers, {type: 'application/binary'});\n",
              "      const a = document.createElement('a');\n",
              "      a.href = window.URL.createObjectURL(blob);\n",
              "      a.download = filename;\n",
              "      div.appendChild(a);\n",
              "      a.click();\n",
              "      div.remove();\n",
              "    }\n",
              "  "
            ]
          },
          "metadata": {}
        },
        {
          "output_type": "display_data",
          "data": {
            "text/plain": [
              "<IPython.core.display.Javascript object>"
            ],
            "application/javascript": [
              "download(\"download_b4ff1ddf-7fd8-4290-bd41-5431355792e4\", \"user_pembeli.csv\", 2417)"
            ]
          },
          "metadata": {}
        },
        {
          "output_type": "display_data",
          "data": {
            "text/plain": [
              "<IPython.core.display.Javascript object>"
            ],
            "application/javascript": [
              "\n",
              "    async function download(id, filename, size) {\n",
              "      if (!google.colab.kernel.accessAllowed) {\n",
              "        return;\n",
              "      }\n",
              "      const div = document.createElement('div');\n",
              "      const label = document.createElement('label');\n",
              "      label.textContent = `Downloading \"${filename}\": `;\n",
              "      div.appendChild(label);\n",
              "      const progress = document.createElement('progress');\n",
              "      progress.max = size;\n",
              "      div.appendChild(progress);\n",
              "      document.body.appendChild(div);\n",
              "\n",
              "      const buffers = [];\n",
              "      let downloaded = 0;\n",
              "\n",
              "      const channel = await google.colab.kernel.comms.open(id);\n",
              "      // Send a message to notify the kernel that we're ready.\n",
              "      channel.send({})\n",
              "\n",
              "      for await (const message of channel.messages) {\n",
              "        // Send a message to notify the kernel that we're ready.\n",
              "        channel.send({})\n",
              "        if (message.buffers) {\n",
              "          for (const buffer of message.buffers) {\n",
              "            buffers.push(buffer);\n",
              "            downloaded += buffer.byteLength;\n",
              "            progress.value = downloaded;\n",
              "          }\n",
              "        }\n",
              "      }\n",
              "      const blob = new Blob(buffers, {type: 'application/binary'});\n",
              "      const a = document.createElement('a');\n",
              "      a.href = window.URL.createObjectURL(blob);\n",
              "      a.download = filename;\n",
              "      div.appendChild(a);\n",
              "      a.click();\n",
              "      div.remove();\n",
              "    }\n",
              "  "
            ]
          },
          "metadata": {}
        },
        {
          "output_type": "display_data",
          "data": {
            "text/plain": [
              "<IPython.core.display.Javascript object>"
            ],
            "application/javascript": [
              "download(\"download_7a44b26f-d51f-4779-909e-4003b69565f2\", \"bid.csv\", 1954)"
            ]
          },
          "metadata": {}
        }
      ]
    },
    {
      "cell_type": "code",
      "source": [
        "import pandas as pd\n",
        "\n",
        "# Baca file XLSX\n",
        "df = pd.read_excel('mobil.xlsx')\n",
        "\n",
        "# Menyimpan DataFrame ke file CSV dengan pemisah koma dan format yang tepat\n",
        "df.to_csv('mobil.csv', index=False, sep=',', decimal=',')\n",
        "\n",
        "# Menyimpan DataFrame Bid ke dalam file CSV\n",
        "df.to_csv('mobil.csv', index=False)\n",
        "\n",
        "# Mengunduh file CSV\n",
        "files.download('mobil.csv')\n"
      ],
      "metadata": {
        "colab": {
          "base_uri": "https://localhost:8080/",
          "height": 17
        },
        "id": "pceFClAEdIdM",
        "outputId": "3c471fbb-0c92-4d68-8b34-ae44e0f440c9"
      },
      "execution_count": 28,
      "outputs": [
        {
          "output_type": "display_data",
          "data": {
            "text/plain": [
              "<IPython.core.display.Javascript object>"
            ],
            "application/javascript": [
              "\n",
              "    async function download(id, filename, size) {\n",
              "      if (!google.colab.kernel.accessAllowed) {\n",
              "        return;\n",
              "      }\n",
              "      const div = document.createElement('div');\n",
              "      const label = document.createElement('label');\n",
              "      label.textContent = `Downloading \"${filename}\": `;\n",
              "      div.appendChild(label);\n",
              "      const progress = document.createElement('progress');\n",
              "      progress.max = size;\n",
              "      div.appendChild(progress);\n",
              "      document.body.appendChild(div);\n",
              "\n",
              "      const buffers = [];\n",
              "      let downloaded = 0;\n",
              "\n",
              "      const channel = await google.colab.kernel.comms.open(id);\n",
              "      // Send a message to notify the kernel that we're ready.\n",
              "      channel.send({})\n",
              "\n",
              "      for await (const message of channel.messages) {\n",
              "        // Send a message to notify the kernel that we're ready.\n",
              "        channel.send({})\n",
              "        if (message.buffers) {\n",
              "          for (const buffer of message.buffers) {\n",
              "            buffers.push(buffer);\n",
              "            downloaded += buffer.byteLength;\n",
              "            progress.value = downloaded;\n",
              "          }\n",
              "        }\n",
              "      }\n",
              "      const blob = new Blob(buffers, {type: 'application/binary'});\n",
              "      const a = document.createElement('a');\n",
              "      a.href = window.URL.createObjectURL(blob);\n",
              "      a.download = filename;\n",
              "      div.appendChild(a);\n",
              "      a.click();\n",
              "      div.remove();\n",
              "    }\n",
              "  "
            ]
          },
          "metadata": {}
        },
        {
          "output_type": "display_data",
          "data": {
            "text/plain": [
              "<IPython.core.display.Javascript object>"
            ],
            "application/javascript": [
              "download(\"download_f64665f2-6642-4a04-a01a-87f33deecd02\", \"mobil.csv\", 3773)"
            ]
          },
          "metadata": {}
        }
      ]
    }
  ]
}